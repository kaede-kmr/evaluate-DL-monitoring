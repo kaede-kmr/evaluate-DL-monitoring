{
 "cells": [
  {
   "cell_type": "markdown",
   "metadata": {
    "editable": true,
    "slideshow": {
     "slide_type": ""
    },
    "tags": []
   },
   "source": [
    "# Model evaluation"
   ]
  },
  {
   "cell_type": "markdown",
   "metadata": {},
   "source": [
    "Evaluate the model performance and save the results in csv format."
   ]
  },
  {
   "cell_type": "code",
   "execution_count": 1,
   "metadata": {
    "colab": {
     "base_uri": "https://localhost:8080/"
    },
    "id": "wfb3EN-CSF5f",
    "outputId": "d4b835e0-686a-477d-c129-fca81a009ffa"
   },
   "outputs": [],
   "source": [
    "from fastai.vision.all import *\n",
    "import sklearn.metrics as skm\n",
    "import pathlib\n",
    "import glob"
   ]
  },
  {
   "cell_type": "markdown",
   "metadata": {},
   "source": [
    "## Setup"
   ]
  },
  {
   "cell_type": "code",
   "execution_count": 2,
   "metadata": {
    "id": "GB8D8EL-Tiwj"
   },
   "outputs": [],
   "source": [
    "# Load model\n",
    "def get_multi_y(x): return parent_label(x).split(\"_\")\n",
    "model = load_learner(\"output/20230102_trained-model.pkl\")\n",
    "\n",
    "# Load datasets\n",
    "dblock = DataBlock(blocks = (ImageBlock, MultiCategoryBlock),\n",
    "                   get_items = get_image_files,\n",
    "                   get_y = get_multi_y,\n",
    "                   splitter = GrandparentSplitter(train_name=\"train\", valid_name=\"valid\")\n",
    "                   )\n",
    "\n",
    "dls = dblock.dataloaders(\"training/high-pass\")"
   ]
  },
  {
   "cell_type": "markdown",
   "metadata": {},
   "source": [
    "## Prediction on the validation dataset"
   ]
  },
  {
   "cell_type": "code",
   "execution_count": 3,
   "metadata": {
    "id": "_xXjCEI1zt_x",
    "scrolled": true
   },
   "outputs": [],
   "source": [
    "# Create lists to store model predictions and the corresponding target labels\n",
    "preds_class = []\n",
    "preds_num = []\n",
    "targs = []\n",
    "\n",
    "# Use the trained model to predict the validation dataset\n",
    "for i, item in enumerate(dls.valid.items):\n",
    "    with model.no_bar(): pred_class, _, pred_num = model.predict(item)\n",
    "    \n",
    "    preds_class.append(pred_class)\n",
    "    preds_num.append(pred_num.numpy())\n",
    "    targs.append(dls.valid_ds[i][1].numpy())\n",
    "    \n",
    "# Convert the lists to numpy.ndarray for later use\n",
    "preds_num = np.array(preds_num)\n",
    "targs = np.array(targs)"
   ]
  },
  {
   "cell_type": "markdown",
   "metadata": {},
   "source": [
    "Save model metrices (precision, recall, and f1-score) in a csv file."
   ]
  },
  {
   "cell_type": "code",
   "execution_count": 4,
   "metadata": {},
   "outputs": [],
   "source": [
    "metrics = skm.classification_report(targs[:,:5], preds_num[:,:5]>0.5, \n",
    "                          target_names=dls.vocab[:5], output_dict=True, zero_division = 0.0)\n",
    "\n",
    "metrics_df = pd.DataFrame(metrics)\n",
    "\n",
    "metrics_df.to_csv(\"output/metrics-results.csv\")"
   ]
  },
  {
   "cell_type": "markdown",
   "metadata": {},
   "source": [
    "Write out file names, corresponding model predictions, and the target labels."
   ]
  },
  {
   "cell_type": "code",
   "execution_count": 5,
   "metadata": {},
   "outputs": [
    {
     "data": {
      "text/html": [
       "<div>\n",
       "<style scoped>\n",
       "    .dataframe tbody tr th:only-of-type {\n",
       "        vertical-align: middle;\n",
       "    }\n",
       "\n",
       "    .dataframe tbody tr th {\n",
       "        vertical-align: top;\n",
       "    }\n",
       "\n",
       "    .dataframe thead th {\n",
       "        text-align: right;\n",
       "    }\n",
       "</style>\n",
       "<table border=\"1\" class=\"dataframe\">\n",
       "  <thead>\n",
       "    <tr style=\"text-align: right;\">\n",
       "      <th></th>\n",
       "      <th>file</th>\n",
       "      <th>preds</th>\n",
       "      <th>label</th>\n",
       "    </tr>\n",
       "  </thead>\n",
       "  <tbody>\n",
       "    <tr>\n",
       "      <th>0</th>\n",
       "      <td>20210628_070000_0_Kyodai_Kyoto.png</td>\n",
       "      <td>background</td>\n",
       "      <td>background</td>\n",
       "    </tr>\n",
       "    <tr>\n",
       "      <th>1</th>\n",
       "      <td>20210802_210000_2_Kyodai_Kyoto.png</td>\n",
       "      <td>background</td>\n",
       "      <td>background</td>\n",
       "    </tr>\n",
       "    <tr>\n",
       "      <th>2</th>\n",
       "      <td>20210805_170000_1_Kyodai_Kyoto.png</td>\n",
       "      <td>background</td>\n",
       "      <td>background</td>\n",
       "    </tr>\n",
       "    <tr>\n",
       "      <th>3</th>\n",
       "      <td>20210813_190000_3_Kyodai_Kyoto.png</td>\n",
       "      <td>background</td>\n",
       "      <td>background</td>\n",
       "    </tr>\n",
       "    <tr>\n",
       "      <th>4</th>\n",
       "      <td>20210817_070000_9_Kyodai_Kyoto.png</td>\n",
       "      <td>background</td>\n",
       "      <td>background</td>\n",
       "    </tr>\n",
       "    <tr>\n",
       "      <th>5</th>\n",
       "      <td>20210903_230000_8_Kyodai_Kyoto.png</td>\n",
       "      <td>background</td>\n",
       "      <td>background</td>\n",
       "    </tr>\n",
       "    <tr>\n",
       "      <th>6</th>\n",
       "      <td>20210905_100000_5_Kyodai_Kyoto.png</td>\n",
       "      <td>background</td>\n",
       "      <td>background</td>\n",
       "    </tr>\n",
       "    <tr>\n",
       "      <th>7</th>\n",
       "      <td>20210908_160000_11_Kyodai_Kyoto.png</td>\n",
       "      <td>background</td>\n",
       "      <td>background</td>\n",
       "    </tr>\n",
       "    <tr>\n",
       "      <th>8</th>\n",
       "      <td>20220303_030000_0_Uryu_Kyoto.png</td>\n",
       "      <td>background</td>\n",
       "      <td>background</td>\n",
       "    </tr>\n",
       "    <tr>\n",
       "      <th>9</th>\n",
       "      <td>20220309_110000_0_Uryu_Kyoto.png</td>\n",
       "      <td>background</td>\n",
       "      <td>background</td>\n",
       "    </tr>\n",
       "  </tbody>\n",
       "</table>\n",
       "</div>"
      ],
      "text/plain": [
       "                                  file       preds       label\n",
       "0   20210628_070000_0_Kyodai_Kyoto.png  background  background\n",
       "1   20210802_210000_2_Kyodai_Kyoto.png  background  background\n",
       "2   20210805_170000_1_Kyodai_Kyoto.png  background  background\n",
       "3   20210813_190000_3_Kyodai_Kyoto.png  background  background\n",
       "4   20210817_070000_9_Kyodai_Kyoto.png  background  background\n",
       "5   20210903_230000_8_Kyodai_Kyoto.png  background  background\n",
       "6   20210905_100000_5_Kyodai_Kyoto.png  background  background\n",
       "7  20210908_160000_11_Kyodai_Kyoto.png  background  background\n",
       "8     20220303_030000_0_Uryu_Kyoto.png  background  background\n",
       "9     20220309_110000_0_Uryu_Kyoto.png  background  background"
      ]
     },
     "execution_count": 5,
     "metadata": {},
     "output_type": "execute_result"
    }
   ],
   "source": [
    "preds_df = pd.DataFrame({\n",
    "    \"file\": [o.name for o in dls.valid.items],\n",
    "    \"preds\": [\"_\".join(classes) for classes in preds_class],\n",
    "    \"label\": [o.parent.name for o in dls.valid.items]\n",
    "})\n",
    "\n",
    "preds_df[0:10]  # check"
   ]
  },
  {
   "cell_type": "code",
   "execution_count": 6,
   "metadata": {},
   "outputs": [],
   "source": [
    "# Save\n",
    "preds_df.to_csv(\"output/validation-results.csv\") "
   ]
  }
 ],
 "metadata": {
  "accelerator": "GPU",
  "colab": {
   "name": "02_20220701_model-evaluation.ipynb",
   "provenance": []
  },
  "gpuClass": "standard",
  "kernelspec": {
   "display_name": "Python 3 (ipykernel)",
   "language": "python",
   "name": "python3"
  },
  "language_info": {
   "codemirror_mode": {
    "name": "ipython",
    "version": 3
   },
   "file_extension": ".py",
   "mimetype": "text/x-python",
   "name": "python",
   "nbconvert_exporter": "python",
   "pygments_lexer": "ipython3",
   "version": "3.9.13"
  }
 },
 "nbformat": 4,
 "nbformat_minor": 4
}
