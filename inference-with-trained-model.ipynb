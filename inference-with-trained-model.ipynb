{
 "cells": [
  {
   "cell_type": "markdown",
   "metadata": {},
   "source": [
    "学習させたモデルを推論に用いて、瓜生と京大の録音データを分析する。"
   ]
  },
  {
   "cell_type": "code",
   "execution_count": 1,
   "metadata": {
    "id": "eiC-i0prEK2_"
   },
   "outputs": [
    {
     "data": {
      "text/plain": [
       "'2.7.10'"
      ]
     },
     "execution_count": 1,
     "metadata": {},
     "output_type": "execute_result"
    }
   ],
   "source": [
    "import fastai\n",
    "from fastai.vision.all import *\n",
    "import glob\n",
    "\n",
    "fastai.__version__"
   ]
  },
  {
   "cell_type": "code",
   "execution_count": 2,
   "metadata": {
    "id": "hCYzZ6xAEvAQ"
   },
   "outputs": [],
   "source": [
    "# Load model\n",
    "def get_multi_y(x): return parent_label(x).split(\"_\")  # Original function that should be defined before loading the model\n",
    "model = load_learner(\"output/20230102_trained-model.pkl\", cpu=False)  # Use gpu"
   ]
  },
  {
   "cell_type": "markdown",
   "metadata": {},
   "source": [
    "まず瓜生山のデータから。"
   ]
  },
  {
   "cell_type": "code",
   "execution_count": 3,
   "metadata": {
    "id": "ASRIGRG6GW27"
   },
   "outputs": [],
   "source": [
    "# Prepare test files\n",
    "test_files = sorted(glob.glob(\"inference/2022/Uryu/2022*png\"))"
   ]
  },
  {
   "cell_type": "code",
   "execution_count": 4,
   "metadata": {
    "colab": {
     "base_uri": "https://localhost:8080/"
    },
    "id": "jpkVFoT-HJw8",
    "outputId": "32a9e408-7224-446c-c0fa-2ddbc8b945e9"
   },
   "outputs": [
    {
     "name": "stdout",
     "output_type": "stream",
     "text": [
      "['inference/2022/Uryu\\\\20220301_000000_0_Uryu_Kyoto.png', 'inference/2022/Uryu\\\\20220301_000000_1_Uryu_Kyoto.png', 'inference/2022/Uryu\\\\20220301_000000_2_Uryu_Kyoto.png']\n"
     ]
    }
   ],
   "source": [
    "print(test_files[0:3]) # check OK"
   ]
  },
  {
   "cell_type": "code",
   "execution_count": 5,
   "metadata": {
    "id": "yMif_LCaHNzp"
   },
   "outputs": [],
   "source": [
    "test_dl = model.dls.test_dl(test_files)"
   ]
  },
  {
   "cell_type": "code",
   "execution_count": 10,
   "metadata": {
    "colab": {
     "base_uri": "https://localhost:8080/",
     "height": 17
    },
    "id": "Rq30lyyZHcL9",
    "outputId": "5086dcd5-adf0-4709-c018-d65dba26d433"
   },
   "outputs": [
    {
     "data": {
      "text/html": [],
      "text/plain": [
       "<IPython.core.display.HTML object>"
      ]
     },
     "metadata": {},
     "output_type": "display_data"
    }
   ],
   "source": [
    "preds, _ = model.get_preds(dl=test_dl)"
   ]
  },
  {
   "cell_type": "code",
   "execution_count": 15,
   "metadata": {},
   "outputs": [
    {
     "data": {
      "text/plain": [
       "'20220301_000000_0_Uryu_Kyoto.png'"
      ]
     },
     "execution_count": 15,
     "metadata": {},
     "output_type": "execute_result"
    }
   ],
   "source": [
    "test_files[0].split(\"\\\\\")[1]"
   ]
  },
  {
   "cell_type": "code",
   "execution_count": 16,
   "metadata": {
    "id": "JGXfuGOCHxOu"
   },
   "outputs": [
    {
     "data": {
      "text/html": [
       "<div>\n",
       "<style scoped>\n",
       "    .dataframe tbody tr th:only-of-type {\n",
       "        vertical-align: middle;\n",
       "    }\n",
       "\n",
       "    .dataframe tbody tr th {\n",
       "        vertical-align: top;\n",
       "    }\n",
       "\n",
       "    .dataframe thead th {\n",
       "        text-align: right;\n",
       "    }\n",
       "</style>\n",
       "<table border=\"1\" class=\"dataframe\">\n",
       "  <thead>\n",
       "    <tr style=\"text-align: right;\">\n",
       "      <th></th>\n",
       "      <th>fname</th>\n",
       "      <th>Bjap</th>\n",
       "      <th>Djap</th>\n",
       "      <th>Grug</th>\n",
       "      <th>Pnig</th>\n",
       "      <th>Zsch</th>\n",
       "      <th>background</th>\n",
       "    </tr>\n",
       "  </thead>\n",
       "  <tbody>\n",
       "    <tr>\n",
       "      <th>0</th>\n",
       "      <td>20220301_000000_0_Uryu_Kyoto.png</td>\n",
       "      <td>6.341439e-05</td>\n",
       "      <td>0.000226</td>\n",
       "      <td>1.330908e-04</td>\n",
       "      <td>0.000215</td>\n",
       "      <td>4.120701e-03</td>\n",
       "      <td>0.995885</td>\n",
       "    </tr>\n",
       "    <tr>\n",
       "      <th>1</th>\n",
       "      <td>20220301_000000_1_Uryu_Kyoto.png</td>\n",
       "      <td>2.712588e-04</td>\n",
       "      <td>0.000865</td>\n",
       "      <td>5.864886e-04</td>\n",
       "      <td>0.000461</td>\n",
       "      <td>3.679077e-04</td>\n",
       "      <td>0.997491</td>\n",
       "    </tr>\n",
       "    <tr>\n",
       "      <th>2</th>\n",
       "      <td>20220301_000000_2_Uryu_Kyoto.png</td>\n",
       "      <td>2.486673e-08</td>\n",
       "      <td>0.000009</td>\n",
       "      <td>9.516093e-07</td>\n",
       "      <td>0.000001</td>\n",
       "      <td>1.864501e-08</td>\n",
       "      <td>0.999999</td>\n",
       "    </tr>\n",
       "    <tr>\n",
       "      <th>3</th>\n",
       "      <td>20220301_000000_3_Uryu_Kyoto.png</td>\n",
       "      <td>7.907490e-03</td>\n",
       "      <td>0.001560</td>\n",
       "      <td>4.109691e-03</td>\n",
       "      <td>0.002108</td>\n",
       "      <td>1.878800e-01</td>\n",
       "      <td>0.788907</td>\n",
       "    </tr>\n",
       "    <tr>\n",
       "      <th>4</th>\n",
       "      <td>20220301_000000_4_Uryu_Kyoto.png</td>\n",
       "      <td>4.269678e-06</td>\n",
       "      <td>0.000065</td>\n",
       "      <td>1.937667e-04</td>\n",
       "      <td>0.000018</td>\n",
       "      <td>7.382893e-06</td>\n",
       "      <td>0.999920</td>\n",
       "    </tr>\n",
       "    <tr>\n",
       "      <th>...</th>\n",
       "      <td>...</td>\n",
       "      <td>...</td>\n",
       "      <td>...</td>\n",
       "      <td>...</td>\n",
       "      <td>...</td>\n",
       "      <td>...</td>\n",
       "      <td>...</td>\n",
       "    </tr>\n",
       "    <tr>\n",
       "      <th>12515</th>\n",
       "      <td>20220422_030000_5_Uryu_Kyoto.png</td>\n",
       "      <td>7.344934e-04</td>\n",
       "      <td>0.005771</td>\n",
       "      <td>4.632496e-02</td>\n",
       "      <td>0.078152</td>\n",
       "      <td>1.455288e-02</td>\n",
       "      <td>0.809371</td>\n",
       "    </tr>\n",
       "    <tr>\n",
       "      <th>12516</th>\n",
       "      <td>20220422_030000_6_Uryu_Kyoto.png</td>\n",
       "      <td>3.980393e-04</td>\n",
       "      <td>0.017610</td>\n",
       "      <td>1.178468e-01</td>\n",
       "      <td>0.122083</td>\n",
       "      <td>3.843473e-03</td>\n",
       "      <td>0.726753</td>\n",
       "    </tr>\n",
       "    <tr>\n",
       "      <th>12517</th>\n",
       "      <td>20220422_030000_7_Uryu_Kyoto.png</td>\n",
       "      <td>9.098827e-04</td>\n",
       "      <td>0.012888</td>\n",
       "      <td>5.382523e-02</td>\n",
       "      <td>0.178785</td>\n",
       "      <td>6.263543e-02</td>\n",
       "      <td>0.514113</td>\n",
       "    </tr>\n",
       "    <tr>\n",
       "      <th>12518</th>\n",
       "      <td>20220422_030000_8_Uryu_Kyoto.png</td>\n",
       "      <td>5.147465e-05</td>\n",
       "      <td>0.010976</td>\n",
       "      <td>2.127543e-02</td>\n",
       "      <td>0.002884</td>\n",
       "      <td>5.820490e-04</td>\n",
       "      <td>0.971778</td>\n",
       "    </tr>\n",
       "    <tr>\n",
       "      <th>12519</th>\n",
       "      <td>20220422_030000_9_Uryu_Kyoto.png</td>\n",
       "      <td>4.777453e-03</td>\n",
       "      <td>0.062907</td>\n",
       "      <td>1.478845e-02</td>\n",
       "      <td>0.122358</td>\n",
       "      <td>1.002496e-01</td>\n",
       "      <td>0.651101</td>\n",
       "    </tr>\n",
       "  </tbody>\n",
       "</table>\n",
       "<p>12520 rows × 7 columns</p>\n",
       "</div>"
      ],
      "text/plain": [
       "                                  fname          Bjap      Djap          Grug  \\\n",
       "0      20220301_000000_0_Uryu_Kyoto.png  6.341439e-05  0.000226  1.330908e-04   \n",
       "1      20220301_000000_1_Uryu_Kyoto.png  2.712588e-04  0.000865  5.864886e-04   \n",
       "2      20220301_000000_2_Uryu_Kyoto.png  2.486673e-08  0.000009  9.516093e-07   \n",
       "3      20220301_000000_3_Uryu_Kyoto.png  7.907490e-03  0.001560  4.109691e-03   \n",
       "4      20220301_000000_4_Uryu_Kyoto.png  4.269678e-06  0.000065  1.937667e-04   \n",
       "...                                 ...           ...       ...           ...   \n",
       "12515  20220422_030000_5_Uryu_Kyoto.png  7.344934e-04  0.005771  4.632496e-02   \n",
       "12516  20220422_030000_6_Uryu_Kyoto.png  3.980393e-04  0.017610  1.178468e-01   \n",
       "12517  20220422_030000_7_Uryu_Kyoto.png  9.098827e-04  0.012888  5.382523e-02   \n",
       "12518  20220422_030000_8_Uryu_Kyoto.png  5.147465e-05  0.010976  2.127543e-02   \n",
       "12519  20220422_030000_9_Uryu_Kyoto.png  4.777453e-03  0.062907  1.478845e-02   \n",
       "\n",
       "           Pnig          Zsch  background  \n",
       "0      0.000215  4.120701e-03    0.995885  \n",
       "1      0.000461  3.679077e-04    0.997491  \n",
       "2      0.000001  1.864501e-08    0.999999  \n",
       "3      0.002108  1.878800e-01    0.788907  \n",
       "4      0.000018  7.382893e-06    0.999920  \n",
       "...         ...           ...         ...  \n",
       "12515  0.078152  1.455288e-02    0.809371  \n",
       "12516  0.122083  3.843473e-03    0.726753  \n",
       "12517  0.178785  6.263543e-02    0.514113  \n",
       "12518  0.002884  5.820490e-04    0.971778  \n",
       "12519  0.122358  1.002496e-01    0.651101  \n",
       "\n",
       "[12520 rows x 7 columns]"
      ]
     },
     "execution_count": 16,
     "metadata": {},
     "output_type": "execute_result"
    }
   ],
   "source": [
    "df = pd.DataFrame({\n",
    "    \"fname\": [file_path.split(\"\\\\\")[1] for file_path in test_files],\n",
    "    model.dls.vocab[0]: preds[:,0],\n",
    "    model.dls.vocab[1]: preds[:,1],\n",
    "    model.dls.vocab[2]: preds[:,2],\n",
    "    model.dls.vocab[3]: preds[:,3],\n",
    "    model.dls.vocab[4]: preds[:,4],\n",
    "    model.dls.vocab[5]: preds[:,5],\n",
    "})\n",
    "\n",
    "df # check OK"
   ]
  },
  {
   "cell_type": "code",
   "execution_count": 17,
   "metadata": {
    "id": "2ht1K81WIe00"
   },
   "outputs": [],
   "source": [
    "df.to_csv(\"output/classified_2022_Uryu.csv\", index=False)"
   ]
  },
  {
   "cell_type": "code",
   "execution_count": 18,
   "metadata": {
    "colab": {
     "base_uri": "https://localhost:8080/",
     "height": 17
    },
    "id": "9KC49dORYW4n",
    "outputId": "a37e045e-909c-4bc9-a92c-872b38b0961d"
   },
   "outputs": [
    {
     "data": {
      "text/html": [],
      "text/plain": [
       "<IPython.core.display.HTML object>"
      ]
     },
     "metadata": {},
     "output_type": "display_data"
    }
   ],
   "source": [
    "# 同じことを京大の集団にも行う\n",
    "test_files = sorted(glob.glob(\"inference/2022/Kyodai/2022*png\"))\n",
    "test_dl = model.dls.test_dl(test_files)\n",
    "preds, _ = model.get_preds(dl=test_dl)\n",
    "\n",
    "df = pd.DataFrame({\n",
    "    \"fname\": [file_path.split(\"\\\\\")[1] for file_path in test_files],\n",
    "    model.dls.vocab[0]: preds[:,0],\n",
    "    model.dls.vocab[1]: preds[:,1],\n",
    "    model.dls.vocab[2]: preds[:,2],\n",
    "    model.dls.vocab[3]: preds[:,3],\n",
    "    model.dls.vocab[4]: preds[:,4],\n",
    "    model.dls.vocab[5]: preds[:,5],\n",
    "})\n",
    "\n",
    "df.to_csv(\"output/classified_2022_Kyodai.csv\", index=False)"
   ]
  }
 ],
 "metadata": {
  "accelerator": "GPU",
  "colab": {
   "name": "03_inference-with-trained-model.ipynb",
   "provenance": []
  },
  "gpuClass": "standard",
  "kernelspec": {
   "display_name": "fastai",
   "language": "python",
   "name": "fastai"
  },
  "language_info": {
   "codemirror_mode": {
    "name": "ipython",
    "version": 3
   },
   "file_extension": ".py",
   "mimetype": "text/x-python",
   "name": "python",
   "nbconvert_exporter": "python",
   "pygments_lexer": "ipython3",
   "version": "3.9.15"
  }
 },
 "nbformat": 4,
 "nbformat_minor": 1
}
