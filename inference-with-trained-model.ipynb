{
 "cells": [
  {
   "cell_type": "markdown",
   "metadata": {},
   "source": [
    "# Inference with the trained model\n",
    "\n",
    "Use the trained ResNet model to analyse the entire field recordings. We assume that the recordings have been pre-processed into the same spectrogram format as the training dataset."
   ]
  },
  {
   "cell_type": "code",
   "execution_count": 1,
   "metadata": {
    "editable": true,
    "id": "eiC-i0prEK2_",
    "slideshow": {
     "slide_type": ""
    },
    "tags": []
   },
   "outputs": [],
   "source": [
    "from fastai.vision.all import *\n",
    "import glob"
   ]
  },
  {
   "cell_type": "code",
   "execution_count": 2,
   "metadata": {
    "id": "hCYzZ6xAEvAQ"
   },
   "outputs": [],
   "source": [
    "# Load model\n",
    "def get_multi_y(x): return parent_label(x).split(\"_\") \n",
    "model = load_learner(\"output/20230102_trained-model.pkl\", cpu=False)  # Use gpu"
   ]
  },
  {
   "cell_type": "markdown",
   "metadata": {},
   "source": [
    "First analyze the recordings collected at Mt. Uryu."
   ]
  },
  {
   "cell_type": "code",
   "execution_count": 3,
   "metadata": {
    "id": "ASRIGRG6GW27"
   },
   "outputs": [
    {
     "data": {
      "text/html": [],
      "text/plain": [
       "<IPython.core.display.HTML object>"
      ]
     },
     "metadata": {},
     "output_type": "display_data"
    }
   ],
   "source": [
    "test_files = sorted(glob.glob(\"inference/2022/Uryu/2022*png\"))\n",
    "\n",
    "# Get predictions\n",
    "test_dl = model.dls.test_dl(test_files) \n",
    "preds, _ = model.get_preds(dl=test_dl) "
   ]
  },
  {
   "cell_type": "markdown",
   "metadata": {},
   "source": [
    "Save the predictions in a csv file."
   ]
  },
  {
   "cell_type": "code",
   "execution_count": 4,
   "metadata": {
    "id": "JGXfuGOCHxOu"
   },
   "outputs": [
    {
     "data": {
      "text/html": [
       "<div>\n",
       "<style scoped>\n",
       "    .dataframe tbody tr th:only-of-type {\n",
       "        vertical-align: middle;\n",
       "    }\n",
       "\n",
       "    .dataframe tbody tr th {\n",
       "        vertical-align: top;\n",
       "    }\n",
       "\n",
       "    .dataframe thead th {\n",
       "        text-align: right;\n",
       "    }\n",
       "</style>\n",
       "<table border=\"1\" class=\"dataframe\">\n",
       "  <thead>\n",
       "    <tr style=\"text-align: right;\">\n",
       "      <th></th>\n",
       "      <th>fname</th>\n",
       "      <th>Bjap</th>\n",
       "      <th>Djap</th>\n",
       "      <th>Grug</th>\n",
       "      <th>Pnig</th>\n",
       "      <th>Zsch</th>\n",
       "      <th>background</th>\n",
       "    </tr>\n",
       "  </thead>\n",
       "  <tbody>\n",
       "    <tr>\n",
       "      <th>0</th>\n",
       "      <td>20220301_000000_0_Uryu_Kyoto.png</td>\n",
       "      <td>6.341439e-05</td>\n",
       "      <td>0.000226</td>\n",
       "      <td>1.330908e-04</td>\n",
       "      <td>0.000215</td>\n",
       "      <td>4.120701e-03</td>\n",
       "      <td>0.995885</td>\n",
       "    </tr>\n",
       "    <tr>\n",
       "      <th>1</th>\n",
       "      <td>20220301_000000_1_Uryu_Kyoto.png</td>\n",
       "      <td>2.712588e-04</td>\n",
       "      <td>0.000865</td>\n",
       "      <td>5.864886e-04</td>\n",
       "      <td>0.000461</td>\n",
       "      <td>3.679077e-04</td>\n",
       "      <td>0.997491</td>\n",
       "    </tr>\n",
       "    <tr>\n",
       "      <th>2</th>\n",
       "      <td>20220301_000000_2_Uryu_Kyoto.png</td>\n",
       "      <td>2.486673e-08</td>\n",
       "      <td>0.000009</td>\n",
       "      <td>9.516093e-07</td>\n",
       "      <td>0.000001</td>\n",
       "      <td>1.864501e-08</td>\n",
       "      <td>0.999999</td>\n",
       "    </tr>\n",
       "    <tr>\n",
       "      <th>3</th>\n",
       "      <td>20220301_000000_3_Uryu_Kyoto.png</td>\n",
       "      <td>7.907490e-03</td>\n",
       "      <td>0.001560</td>\n",
       "      <td>4.109691e-03</td>\n",
       "      <td>0.002108</td>\n",
       "      <td>1.878800e-01</td>\n",
       "      <td>0.788907</td>\n",
       "    </tr>\n",
       "    <tr>\n",
       "      <th>4</th>\n",
       "      <td>20220301_000000_4_Uryu_Kyoto.png</td>\n",
       "      <td>4.269678e-06</td>\n",
       "      <td>0.000065</td>\n",
       "      <td>1.937667e-04</td>\n",
       "      <td>0.000018</td>\n",
       "      <td>7.382893e-06</td>\n",
       "      <td>0.999920</td>\n",
       "    </tr>\n",
       "    <tr>\n",
       "      <th>5</th>\n",
       "      <td>20220301_000000_5_Uryu_Kyoto.png</td>\n",
       "      <td>1.622376e-05</td>\n",
       "      <td>0.000155</td>\n",
       "      <td>9.837078e-05</td>\n",
       "      <td>0.000049</td>\n",
       "      <td>1.597480e-05</td>\n",
       "      <td>0.999869</td>\n",
       "    </tr>\n",
       "    <tr>\n",
       "      <th>6</th>\n",
       "      <td>20220301_000000_6_Uryu_Kyoto.png</td>\n",
       "      <td>5.888781e-06</td>\n",
       "      <td>0.000656</td>\n",
       "      <td>6.524408e-04</td>\n",
       "      <td>0.000110</td>\n",
       "      <td>1.215093e-05</td>\n",
       "      <td>0.999698</td>\n",
       "    </tr>\n",
       "    <tr>\n",
       "      <th>7</th>\n",
       "      <td>20220301_000000_7_Uryu_Kyoto.png</td>\n",
       "      <td>2.110042e-03</td>\n",
       "      <td>0.006663</td>\n",
       "      <td>6.374673e-03</td>\n",
       "      <td>0.012567</td>\n",
       "      <td>1.088206e-01</td>\n",
       "      <td>0.838762</td>\n",
       "    </tr>\n",
       "    <tr>\n",
       "      <th>8</th>\n",
       "      <td>20220301_000000_8_Uryu_Kyoto.png</td>\n",
       "      <td>2.232804e-06</td>\n",
       "      <td>0.000152</td>\n",
       "      <td>3.505510e-05</td>\n",
       "      <td>0.000044</td>\n",
       "      <td>6.295784e-06</td>\n",
       "      <td>0.999891</td>\n",
       "    </tr>\n",
       "    <tr>\n",
       "      <th>9</th>\n",
       "      <td>20220301_000000_9_Uryu_Kyoto.png</td>\n",
       "      <td>2.100028e-04</td>\n",
       "      <td>0.001469</td>\n",
       "      <td>3.336968e-04</td>\n",
       "      <td>0.004369</td>\n",
       "      <td>3.431083e-04</td>\n",
       "      <td>0.997819</td>\n",
       "    </tr>\n",
       "  </tbody>\n",
       "</table>\n",
       "</div>"
      ],
      "text/plain": [
       "                              fname          Bjap      Djap          Grug  \\\n",
       "0  20220301_000000_0_Uryu_Kyoto.png  6.341439e-05  0.000226  1.330908e-04   \n",
       "1  20220301_000000_1_Uryu_Kyoto.png  2.712588e-04  0.000865  5.864886e-04   \n",
       "2  20220301_000000_2_Uryu_Kyoto.png  2.486673e-08  0.000009  9.516093e-07   \n",
       "3  20220301_000000_3_Uryu_Kyoto.png  7.907490e-03  0.001560  4.109691e-03   \n",
       "4  20220301_000000_4_Uryu_Kyoto.png  4.269678e-06  0.000065  1.937667e-04   \n",
       "5  20220301_000000_5_Uryu_Kyoto.png  1.622376e-05  0.000155  9.837078e-05   \n",
       "6  20220301_000000_6_Uryu_Kyoto.png  5.888781e-06  0.000656  6.524408e-04   \n",
       "7  20220301_000000_7_Uryu_Kyoto.png  2.110042e-03  0.006663  6.374673e-03   \n",
       "8  20220301_000000_8_Uryu_Kyoto.png  2.232804e-06  0.000152  3.505510e-05   \n",
       "9  20220301_000000_9_Uryu_Kyoto.png  2.100028e-04  0.001469  3.336968e-04   \n",
       "\n",
       "       Pnig          Zsch  background  \n",
       "0  0.000215  4.120701e-03    0.995885  \n",
       "1  0.000461  3.679077e-04    0.997491  \n",
       "2  0.000001  1.864501e-08    0.999999  \n",
       "3  0.002108  1.878800e-01    0.788907  \n",
       "4  0.000018  7.382893e-06    0.999920  \n",
       "5  0.000049  1.597480e-05    0.999869  \n",
       "6  0.000110  1.215093e-05    0.999698  \n",
       "7  0.012567  1.088206e-01    0.838762  \n",
       "8  0.000044  6.295784e-06    0.999891  \n",
       "9  0.004369  3.431083e-04    0.997819  "
      ]
     },
     "execution_count": 4,
     "metadata": {},
     "output_type": "execute_result"
    }
   ],
   "source": [
    "df = pd.DataFrame({\n",
    "    \"fname\": [file_path.split(\"\\\\\")[1] for file_path in test_files],\n",
    "    model.dls.vocab[0]: preds[:,0],\n",
    "    model.dls.vocab[1]: preds[:,1],\n",
    "    model.dls.vocab[2]: preds[:,2],\n",
    "    model.dls.vocab[3]: preds[:,3],\n",
    "    model.dls.vocab[4]: preds[:,4],\n",
    "    model.dls.vocab[5]: preds[:,5],\n",
    "})\n",
    "\n",
    "df[0:10]  # check the output"
   ]
  },
  {
   "cell_type": "code",
   "execution_count": 5,
   "metadata": {
    "id": "2ht1K81WIe00"
   },
   "outputs": [],
   "source": [
    "df.to_csv(\"output/classified_2022_Uryu.csv\", index=False)"
   ]
  },
  {
   "cell_type": "markdown",
   "metadata": {},
   "source": [
    "The detection probability is generated for each species and background noise. Values greater than 0.5 are considered as detections.\n",
    "\n",
    "Next, apply the same procedure to the recordings collected at another study site, the Kyoto farmsteat of the experimental farm."
   ]
  },
  {
   "cell_type": "code",
   "execution_count": null,
   "metadata": {
    "colab": {
     "base_uri": "https://localhost:8080/",
     "height": 17
    },
    "id": "9KC49dORYW4n",
    "outputId": "a37e045e-909c-4bc9-a92c-872b38b0961d"
   },
   "outputs": [],
   "source": [
    "test_files = sorted(glob.glob(\"inference/2022/Kyodai/2022*png\"))\n",
    "test_dl = model.dls.test_dl(test_files)\n",
    "preds, _ = model.get_preds(dl=test_dl)\n",
    "\n",
    "df = pd.DataFrame({\n",
    "    \"fname\": [file_path.split(\"\\\\\")[1] for file_path in test_files],\n",
    "    model.dls.vocab[0]: preds[:,0],\n",
    "    model.dls.vocab[1]: preds[:,1],\n",
    "    model.dls.vocab[2]: preds[:,2],\n",
    "    model.dls.vocab[3]: preds[:,3],\n",
    "    model.dls.vocab[4]: preds[:,4],\n",
    "    model.dls.vocab[5]: preds[:,5],\n",
    "})\n",
    "\n",
    "df.to_csv(\"output/classified_2022_Kyodai.csv\", index=False)"
   ]
  }
 ],
 "metadata": {
  "accelerator": "GPU",
  "colab": {
   "name": "03_inference-with-trained-model.ipynb",
   "provenance": []
  },
  "gpuClass": "standard",
  "kernelspec": {
   "display_name": "Python 3 (ipykernel)",
   "language": "python",
   "name": "python3"
  },
  "language_info": {
   "codemirror_mode": {
    "name": "ipython",
    "version": 3
   },
   "file_extension": ".py",
   "mimetype": "text/x-python",
   "name": "python",
   "nbconvert_exporter": "python",
   "pygments_lexer": "ipython3",
   "version": "3.9.13"
  }
 },
 "nbformat": 4,
 "nbformat_minor": 4
}
